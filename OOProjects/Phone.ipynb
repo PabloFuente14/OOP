{
 "cells": [
  {
   "cell_type": "code",
   "execution_count": 67,
   "id": "3beb549d-a064-4c1e-94f6-a139db338c47",
   "metadata": {},
   "outputs": [],
   "source": [
    "class Phone:\n",
    "    def __init__(self, brand, model, price):\n",
    "        self.brand = brand\n",
    "        self.model = model\n",
    "        self.price = max(price,0) #not negative \n",
    "\n",
    "\n",
    "    @staticmethod # ----> puede ser usado por instancias con atributos que no forman parte de la isntancia \n",
    "    def make_call(phone_number):\n",
    "        print(f\"Calling : {phone_number}\")\n",
    "\n",
    "    #@classmethod---->no accede atributos instancias\n",
    "    def full_name(self):\n",
    "        return f\"Marca {self.brand}, modelo {self.model}, precio = {self.price}\"\n",
    "\n"
   ]
  },
  {
   "cell_type": "code",
   "execution_count": 68,
   "id": "649a8bb0-4025-4ac6-ad0a-f8c86d681187",
   "metadata": {},
   "outputs": [],
   "source": [
    "class Smartphone(Phone):\n",
    "    def __init__(self,brand,model,price, ram, internal_memory):\n",
    "        super().__init__(brand,model, price)\n",
    "        self.ram = ram\n",
    "        self.internal_memory = internal_memory\n",
    "\n",
    "class VipPhone(Smartphone):\n",
    "    def __init__(self, brand, model, price, ram, internal_memory, n_of_kernels):\n",
    "        super().__init__(brand,model,price,ram, internal_memory)\n",
    "        self.n_of_kernels = n_of_kernels\n",
    "        \n",
    "    def full_name(self):\n",
    "        return f\"Marca {self.brand}, modelo {self.model}, precio = {self.price}, ram {self.ram}, internal memory {self.internal_memory}, number of kernels {self.n_of_kernels}\"\n",
    "        \n",
    "        "
   ]
  },
  {
   "cell_type": "code",
   "execution_count": 69,
   "id": "0361d743-2c95-450f-909d-ea959606fd57",
   "metadata": {},
   "outputs": [],
   "source": [
    "phone1 = Phone(\"Nokia\", \"Plus\", 200)\n",
    "phone1.brand  = \"Hola\"\n",
    "#phone1.full_name()"
   ]
  },
  {
   "cell_type": "code",
   "execution_count": 70,
   "id": "b8b98c1e-19ca-46d6-888b-c7307943399c",
   "metadata": {},
   "outputs": [
    {
     "data": {
      "text/plain": [
       "False"
      ]
     },
     "execution_count": 70,
     "metadata": {},
     "output_type": "execute_result"
    }
   ],
   "source": [
    "isinstance(phone1,Smartphone)"
   ]
  },
  {
   "cell_type": "code",
   "execution_count": 71,
   "id": "958206bd-e376-4e27-8c4e-c6f23096594e",
   "metadata": {},
   "outputs": [
    {
     "data": {
      "text/plain": [
       "{'brand': 'Hola', 'model': 'Plus', 'price': 200}"
      ]
     },
     "execution_count": 71,
     "metadata": {},
     "output_type": "execute_result"
    }
   ],
   "source": [
    "phone1.__dict__"
   ]
  },
  {
   "cell_type": "code",
   "execution_count": 72,
   "id": "bd44eb2c-ae20-4404-b079-31d13e710da8",
   "metadata": {},
   "outputs": [
    {
     "data": {
      "text/plain": [
       "'Marca LG, modelo Classic, precio = 300'"
      ]
     },
     "execution_count": 72,
     "metadata": {},
     "output_type": "execute_result"
    }
   ],
   "source": [
    "smartphone1 = Smartphone(\"LG\", \"Classic\", 300 , 1.2,  4)\n",
    "smartphone1.full_name()\n"
   ]
  },
  {
   "cell_type": "code",
   "execution_count": 73,
   "id": "27c00c46-55da-4c9d-bddc-5daea8520f7f",
   "metadata": {},
   "outputs": [
    {
     "name": "stdout",
     "output_type": "stream",
     "text": [
      "Calling : 2323243\n"
     ]
    }
   ],
   "source": [
    "phone1.make_call(\"2323243\")"
   ]
  },
  {
   "cell_type": "code",
   "execution_count": 74,
   "id": "567f7064-d398-496c-9811-9cc9e902e349",
   "metadata": {},
   "outputs": [],
   "source": [
    "iphoneVip = VipPhone(\"Iphone\", \"15\", 20000,  16, 10, 8)"
   ]
  },
  {
   "cell_type": "code",
   "execution_count": 75,
   "id": "f187112d-c8b2-49b8-ba40-b75a8084a7a6",
   "metadata": {},
   "outputs": [
    {
     "data": {
      "text/plain": [
       "'Marca Iphone, modelo 15, precio = 20000, ram 16, internal memory 10, number of kernels 8'"
      ]
     },
     "execution_count": 75,
     "metadata": {},
     "output_type": "execute_result"
    }
   ],
   "source": [
    "iphoneVip.full_name()"
   ]
  },
  {
   "cell_type": "code",
   "execution_count": 76,
   "id": "cf0d5580-e775-4e65-95f0-0db24d9b7713",
   "metadata": {},
   "outputs": [
    {
     "data": {
      "text/plain": [
       "True"
      ]
     },
     "execution_count": 76,
     "metadata": {},
     "output_type": "execute_result"
    }
   ],
   "source": [
    "isinstance(iphoneVip, Phone)"
   ]
  },
  {
   "cell_type": "code",
   "execution_count": 77,
   "id": "6d8aa0cd-0e3e-459b-ae6f-290de055afa4",
   "metadata": {},
   "outputs": [
    {
     "data": {
      "text/plain": [
       "True"
      ]
     },
     "execution_count": 77,
     "metadata": {},
     "output_type": "execute_result"
    }
   ],
   "source": [
    "issubclass(Smartphone,Phone)"
   ]
  },
  {
   "cell_type": "code",
   "execution_count": 79,
   "id": "e0f34653-117b-460f-aa21-e66ff8dd452e",
   "metadata": {},
   "outputs": [],
   "source": [
    "class Trabajador:\n",
    "    def __init__(self, nombre, apellidos, edad, salario_base, horas_trabajo, dias_trabajados):\n",
    "        self.nombre = nombre\n",
    "        self.apellidos = apellidos\n",
    "        self.edad = edad\n",
    "        self.__salario_base = salario_base\n",
    "        self.horas_trabajo = horas_trabajo\n",
    "        self.dias_trabajaos = dias_trabajados\n",
    "\n",
    "    def __str__(self): ##dunder method. More informal. Shows the method to the users\n",
    "        return f\"Phone informal {self.nombre} {self.apellidos} {self.edad} {self.__salario_base} {self.horas_trabajo}  {self.dias_trabajaos}\"\n",
    "        \n",
    "    def __repr__(self): ##dunder method for developers. Show result to developers\n",
    "        return f\"Phone formal {self.nombre} {self.apellidos} {self.edad} {self.__salario_base} {self.horas_trabajo}  {self.dias_trabajaos}\"\n",
    "        \n",
    "    def __salario_mes(self):\n",
    "        return self.__salario_base * self.horas_trabajo * self.dias_trabajaos   \n",
    "\n",
    "class Operario(Trabajador):\n",
    "    def __init__(self, nombre, apellidos, edad, salario_base, horas_trabajo, dias_trabajados, plus_oficialia):\n",
    "        super().__init__(nombre,apellidos,edad,salario_base, horas_trabajo, dias_trabajados)\n",
    "        self.__salario_base =  salario_base + (plus_oficialia* salario_base)\n",
    "\n",
    "    def __salario_mes(self):\n",
    "        return self.__salario_base * self.horas_trabajo * self.dias_trabajaos\n",
    "    "
   ]
  },
  {
   "cell_type": "code",
   "execution_count": null,
   "id": "d210b2be-e3fe-4244-887a-4f1a600dc44d",
   "metadata": {},
   "outputs": [],
   "source": [
    "trabajador =  Trabajador(\"Juan\", \"Alcazar\", 23, 8, 8, 20)"
   ]
  },
  {
   "cell_type": "code",
   "execution_count": 80,
   "id": "97df86a7-97fa-4be1-8894-074a30a395bc",
   "metadata": {},
   "outputs": [
    {
     "data": {
      "text/plain": [
       "1280"
      ]
     },
     "execution_count": 80,
     "metadata": {},
     "output_type": "execute_result"
    }
   ],
   "source": [
    "trabajador._Trabajador__salario_mes() # trabajador.salario_mes daraá error porque de esta manera se están separando ambos métodos a pesar de que se llamen igual. Cada método corresponde a su clase"
   ]
  },
  {
   "cell_type": "code",
   "execution_count": 81,
   "id": "50e836b9-a60f-4a21-8c35-d10ef18f7660",
   "metadata": {},
   "outputs": [
    {
     "name": "stdout",
     "output_type": "stream",
     "text": [
      "Juan Alcazar 23 8 8  20\n"
     ]
    }
   ],
   "source": [
    "print(trabajador)"
   ]
  },
  {
   "cell_type": "code",
   "execution_count": 82,
   "id": "b14a8b24-9e6f-4369-a49e-5d90a26e1434",
   "metadata": {},
   "outputs": [],
   "source": [
    "#trabajador.salario_mes"
   ]
  },
  {
   "cell_type": "code",
   "execution_count": 83,
   "id": "8fc938be-5f06-4eb1-b686-15c271b54685",
   "metadata": {},
   "outputs": [],
   "source": [
    "operario = Operario(\"Pablo\",\"Fuente\" , 25,8,8,20,0.3)"
   ]
  },
  {
   "cell_type": "code",
   "execution_count": 84,
   "id": "de61bf3f-b112-42e7-af78-0695901a07ce",
   "metadata": {},
   "outputs": [
    {
     "data": {
      "text/plain": [
       "{'nombre': 'Pablo',\n",
       " 'apellidos': 'Fuente',\n",
       " 'edad': 25,\n",
       " '_Trabajador__salario_base': 8,\n",
       " 'horas_trabajo': 8,\n",
       " 'dias_trabajaos': 20,\n",
       " '_Operario__salario_base': 10.4}"
      ]
     },
     "execution_count": 84,
     "metadata": {},
     "output_type": "execute_result"
    }
   ],
   "source": [
    "operario.__dict__"
   ]
  },
  {
   "cell_type": "code",
   "execution_count": 85,
   "id": "ec6c776a-975c-4c37-9f78-414cf2cd8a01",
   "metadata": {},
   "outputs": [
    {
     "data": {
      "text/plain": [
       "1280"
      ]
     },
     "execution_count": 85,
     "metadata": {},
     "output_type": "execute_result"
    }
   ],
   "source": [
    "trabajador._Trabajador__salario_mes()"
   ]
  },
  {
   "cell_type": "code",
   "execution_count": 86,
   "id": "71376c62-abbb-4f28-8d1c-2269beb9d47c",
   "metadata": {},
   "outputs": [
    {
     "data": {
      "text/plain": [
       "1664.0"
      ]
     },
     "execution_count": 86,
     "metadata": {},
     "output_type": "execute_result"
    }
   ],
   "source": [
    "operario._Operario__salario_mes()"
   ]
  },
  {
   "cell_type": "code",
   "execution_count": 95,
   "id": "b5ef70fb-4f12-42a3-89ff-209f4819468a",
   "metadata": {},
   "outputs": [],
   "source": [
    "#operator overloading\n",
    "class Posicion_tablero:\n",
    "    def __init__(self, pos_x , pos_y):\n",
    "        self.pos_x = pos_x\n",
    "        self.pos_y = pos_y\n",
    "\n",
    "    def __repr__(self):\n",
    "        return f\"Vector({self.pos_x}, {self.pos_y})\"\n",
    "    def __add__(self,new_pos): ##sobreescribe el operador '+' que tiene Python\n",
    "        if isinstance(new_pos, Posicion_tablero):\n",
    "            return Posicion_tablero(self.pos_x + new_pos.pos_x, self.pos_y + new_pos.pos_y)\n",
    "\n"
   ]
  },
  {
   "cell_type": "code",
   "execution_count": 96,
   "id": "a34a03a7-1a8b-4d7c-ad92-6a8a3522c68d",
   "metadata": {},
   "outputs": [],
   "source": [
    "pos1= Posicion_tablero(2,2)\n",
    "pos2 = Posicion_tablero(3,3)\n",
    "pos3 = pos1 + pos2"
   ]
  },
  {
   "cell_type": "code",
   "execution_count": 97,
   "id": "aa38441c-8e3a-417b-ae38-a6d4f4f7af5c",
   "metadata": {},
   "outputs": [
    {
     "name": "stdout",
     "output_type": "stream",
     "text": [
      "Vector(5, 5)\n"
     ]
    }
   ],
   "source": [
    "print(pos3)"
   ]
  },
  {
   "cell_type": "code",
   "execution_count": 29,
   "id": "e2ce0dfe-1f92-4928-8eaf-6fc9de53d1cf",
   "metadata": {},
   "outputs": [],
   "source": [
    "class Coche():\n",
    "    def __init__(self, marca, modelo, kms):\n",
    "        self.marca = marca\n",
    "        self.modelo = modelo\n",
    "        self.kms = kms\n",
    "\n",
    "class Gasolina(Coche):\n",
    "    def __init__(self, marca, modelo, kms):\n",
    "        super().__init__(marca,modelo,kms)\n",
    "        self.combustible = \"Gasolina\"\n",
    "\n",
    "    def __repr__(self):\n",
    "        return f\"Coche gasolina: {self.marca} {self.modelo} {self.kms} {self.combustible}\"\n",
    "        \n",
    "\n",
    "    def sonido_coche(self):\n",
    "        return f\"El coche de {self.combustible} hace papappapappapapapapaaaaa  \"\n",
    "\n",
    "class Diesel(Coche):\n",
    "        def __init__(self, marca,modelo,kms):\n",
    "            super().__init__(marca,modelo,kms)\n",
    "            self.combustible = \"Diesel\"\n",
    "            \n",
    "        def __repr__(self):\n",
    "            return f\"Coche gasolina: {self.marca} {self.modelo} {self.kms} {self.combustible}\"\n",
    "    \n",
    "        def sonido_coche(self):\n",
    "            return f\"El coche de {self.combustiblebustible} hace prrrrrprrrprprrrrprprprprprprprrrr\"\n",
    "\n",
    "gasolina1= Gasolina('Ford', 'Fiesta ST', 100000)"
   ]
  },
  {
   "cell_type": "code",
   "execution_count": 30,
   "id": "177d39aa-2e81-4242-a838-06c8120a99ac",
   "metadata": {},
   "outputs": [],
   "source": [
    "gasolina1= Gasolina('Ford', 'Fiesta ST', 100000)"
   ]
  },
  {
   "cell_type": "code",
   "execution_count": 38,
   "id": "dad7d2ca-d087-4d81-b516-e5d9eacd7847",
   "metadata": {},
   "outputs": [
    {
     "data": {
      "text/plain": [
       "{'marca': 'Ford',\n",
       " 'modelo': 'Fiesta ST',\n",
       " 'kms': 100000,\n",
       " 'combustible': 'Gasolina'}"
      ]
     },
     "execution_count": 38,
     "metadata": {},
     "output_type": "execute_result"
    }
   ],
   "source": [
    "gasolina1.__dict__"
   ]
  },
  {
   "cell_type": "code",
   "execution_count": 39,
   "id": "5fa27920-e5de-418e-86d2-2a6f4850bd4d",
   "metadata": {},
   "outputs": [],
   "source": [
    "diesel1 = Diesel('Ford', 'Focus', 200000)"
   ]
  },
  {
   "cell_type": "code",
   "execution_count": 40,
   "id": "63575bf8-816e-4b5c-8301-4ef8132810a2",
   "metadata": {},
   "outputs": [
    {
     "data": {
      "text/plain": [
       "{'marca': 'Ford', 'modelo': 'Focus', 'kms': 200000, 'combustible': 'Diesel'}"
      ]
     },
     "execution_count": 40,
     "metadata": {},
     "output_type": "execute_result"
    }
   ],
   "source": [
    "diesel1.__dict__"
   ]
  },
  {
   "cell_type": "code",
   "execution_count": 41,
   "id": "96a21d57-a1dc-4388-a3f6-19b674d5f5d6",
   "metadata": {},
   "outputs": [],
   "source": [
    "objetos = [gasolina1,diesel1]"
   ]
  },
  {
   "cell_type": "code",
   "execution_count": 42,
   "id": "1af6ed2a-8151-4d60-bd03-defaa2bd3f2c",
   "metadata": {},
   "outputs": [
    {
     "name": "stdout",
     "output_type": "stream",
     "text": [
      "[Coche gasolina: Ford Fiesta ST 100000 Gasolina, Coche gasolina: Ford Focus 200000 Diesel]\n"
     ]
    }
   ],
   "source": [
    "print(objetos)"
   ]
  },
  {
   "cell_type": "code",
   "execution_count": 43,
   "id": "076d12ec-99ee-4d55-88d3-46d1abb0bec8",
   "metadata": {},
   "outputs": [
    {
     "name": "stdout",
     "output_type": "stream",
     "text": [
      "Coche gasolina: Ford Fiesta ST 100000 Gasolina\n"
     ]
    }
   ],
   "source": [
    "print(gasolina1)"
   ]
  },
  {
   "cell_type": "code",
   "execution_count": null,
   "id": "a45e02e7-a987-4aa9-aaac-c050b0071f95",
   "metadata": {},
   "outputs": [],
   "source": []
  }
 ],
 "metadata": {
  "kernelspec": {
   "display_name": "Python 3 (ipykernel)",
   "language": "python",
   "name": "python3"
  },
  "language_info": {
   "codemirror_mode": {
    "name": "ipython",
    "version": 3
   },
   "file_extension": ".py",
   "mimetype": "text/x-python",
   "name": "python",
   "nbconvert_exporter": "python",
   "pygments_lexer": "ipython3",
   "version": "3.9.18"
  }
 },
 "nbformat": 4,
 "nbformat_minor": 5
}
