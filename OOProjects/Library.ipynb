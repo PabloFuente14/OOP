{
 "cells": [
  {
   "cell_type": "code",
   "execution_count": 1,
   "id": "20125cd5-6125-4132-b747-50e1c73a4601",
   "metadata": {},
   "outputs": [],
   "source": [
    "class Library:\n",
    "    def __init__(self, book_list, person_name):\n",
    "        self.book_list = book_list\n",
    "        self.name = person_name\n",
    "        self.lendDict = {} ##libros perstados\n",
    "\n",
    "    def display_book(self):\n",
    "        print(f\"{self.name},  We currently have this books on our library :\")\n",
    "        book_num = 1\n",
    "        for book in self.book_list:\n",
    "            print(f\"{book_num} {book}\")\n",
    "            book_num +=1\n",
    "\n",
    "    def lend_book(self, book, name): #si el libro está en la lista \n",
    "        if book in self.book_list:\n",
    "      \n",
    "            if book not in self.lendDict:\n",
    "                self.lendDict.update({book: name})\n",
    "                print(f\"Lend database was updated with book {book}\")\n",
    "            else:\n",
    "                print(f\"You cannot take the book {book} because is alredy in {self.lendDict}\")\n",
    "        else:\n",
    "            print(f\"The book you are tying to book is not on our database\")\n",
    "\n",
    "\n",
    "    def add_book(self,book):\n",
    "        if book not in self.book_list:\n",
    "            self.book_list.append(book)\n",
    "        else:\n",
    "            print(f\"El libro ya se ha añadido anteriormente\")\n",
    "\n",
    "\n",
    "    def return_book(self, book):\n",
    "        if book in self.book_list: #si el libro está en la lista de libros\n",
    "            if book in self.lendDict.keys(): #si el libro está en la lista de dejados\n",
    "                self.lendDict.pop(book)\n",
    "            else:\n",
    "                print(f\"This book is not in use, the list of books being used is {self.lendDict}\")\n",
    "        else:\n",
    "            print(f\"Such book {book} is not related to our database\")\n",
    "\n",
    "               \n",
    "            \n",
    "            \n",
    "            \n",
    "            \n",
    "            \n",
    "     \n",
    "            \n",
    "            \n",
    "            "
   ]
  },
  {
   "cell_type": "code",
   "execution_count": 2,
   "id": "3a4d9204-30de-4ff3-94ce-881ea72e052f",
   "metadata": {},
   "outputs": [],
   "source": [
    "library = Library(['Libro1','Libro2', 'Libro3', 'Libro4', 'Libro5', 'Libro6', 'Libro7'], \"Pablo\")"
   ]
  },
  {
   "cell_type": "code",
   "execution_count": 3,
   "id": "a5671308",
   "metadata": {},
   "outputs": [
    {
     "data": {
      "text/plain": [
       "'Pablo'"
      ]
     },
     "execution_count": 3,
     "metadata": {},
     "output_type": "execute_result"
    }
   ],
   "source": [
    "library.name"
   ]
  },
  {
   "cell_type": "code",
   "execution_count": null,
   "id": "3154f049-3597-4454-85b6-bef5506c7920",
   "metadata": {},
   "outputs": [],
   "source": [
    "library.display_book()"
   ]
  },
  {
   "cell_type": "code",
   "execution_count": null,
   "id": "9b773845-e258-4d5e-bed5-aee4b0dee663",
   "metadata": {},
   "outputs": [],
   "source": [
    "library.lendDict"
   ]
  },
  {
   "cell_type": "code",
   "execution_count": null,
   "id": "253185e8-f00e-4706-a58a-192199c58a51",
   "metadata": {},
   "outputs": [],
   "source": [
    "library.lend_book('Libro5','Mikelon')"
   ]
  },
  {
   "cell_type": "code",
   "execution_count": null,
   "id": "5b70e5ed-55c1-44c6-8f32-af386b00c875",
   "metadata": {},
   "outputs": [],
   "source": [
    "library.__dict__\n"
   ]
  },
  {
   "cell_type": "code",
   "execution_count": null,
   "id": "4d56fd47-199b-46d5-bdc1-7da347104e8a",
   "metadata": {},
   "outputs": [],
   "source": [
    "library.return_book(\"Libro5\")"
   ]
  },
  {
   "cell_type": "code",
   "execution_count": null,
   "id": "ce8acbbf-9897-4d20-8d00-7c07e3ac666c",
   "metadata": {},
   "outputs": [],
   "source": [
    "library.lendDict"
   ]
  },
  {
   "cell_type": "code",
   "execution_count": null,
   "id": "d2c03780-f047-4d99-aaca-b0a936436ecf",
   "metadata": {},
   "outputs": [],
   "source": [
    "if __name__ == '__main__':\n",
    "    PabloLibrary = Library(['Juego de tronos','Marlem','David Goggins','2','3','4','5','6'],'Filibert library')\n",
    "    while True:\n",
    "        print(f\"Welcome to {PabloLibrary.name}. Enter your choice in order to continue:\")\n",
    "        print(\"1 for display book list\")\n",
    "        print(\"2 for lending a book\")\n",
    "        print(\"3 for adding a book\")\n",
    "        print(\"4 for returning a book\")\n",
    "        user_choice = input(\"Write your option here:\")\n",
    "        available_options = set('1','2','3','4')\n",
    "        while user_choice != \n",
    "        \n",
    "\n",
    "\n",
    "\n",
    "\n",
    "\n",
    "        "
   ]
  },
  {
   "cell_type": "code",
   "execution_count": null,
   "id": "63001376-f118-424d-9bf8-9124721b548d",
   "metadata": {},
   "outputs": [],
   "source": [
    "user_input = input()\n"
   ]
  },
  {
   "cell_type": "code",
   "execution_count": null,
   "id": "67dbd9e0-c3a8-4981-afb5-52a130fa734f",
   "metadata": {},
   "outputs": [],
   "source": [
    "print(user_input)"
   ]
  },
  {
   "cell_type": "code",
   "execution_count": null,
   "id": "d482e16d-0bd6-45b8-9f1d-c082235b2e6d",
   "metadata": {},
   "outputs": [],
   "source": [
    "import ipywidgets as widgets\n",
    "from IPython.display import display\n",
    "\n",
    "text_input = widgets.Text(\n",
    "    description='Enter text:',\n",
    "    value=''\n",
    ")\n",
    "\n",
    "def handle_submit(sender):\n",
    "    print(text_input.value)\n",
    "\n",
    "text_input.on_submit(handle_submit)\n",
    "display(text_input)\n"
   ]
  },
  {
   "cell_type": "code",
   "execution_count": null,
   "id": "72088df3-cc98-4ac8-ac61-242b363cabfd",
   "metadata": {},
   "outputs": [],
   "source": []
  }
 ],
 "metadata": {
  "kernelspec": {
   "display_name": "Python 3 (ipykernel)",
   "language": "python",
   "name": "python3"
  },
  "language_info": {
   "codemirror_mode": {
    "name": "ipython",
    "version": 3
   },
   "file_extension": ".py",
   "mimetype": "text/x-python",
   "name": "python",
   "nbconvert_exporter": "python",
   "pygments_lexer": "ipython3",
   "version": "3.12.4"
  }
 },
 "nbformat": 4,
 "nbformat_minor": 5
}
